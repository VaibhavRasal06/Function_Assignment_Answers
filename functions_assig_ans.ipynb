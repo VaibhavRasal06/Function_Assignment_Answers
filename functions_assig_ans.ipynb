{
 "cells": [
  {
   "cell_type": "markdown",
   "id": "fa561c3c-d2f0-4f7d-907f-52b14b07727a",
   "metadata": {},
   "source": [
    "### Q.1"
   ]
  },
  {
   "cell_type": "code",
   "execution_count": 26,
   "id": "d2c431b8-0916-4473-bf56-aad119326937",
   "metadata": {},
   "outputs": [],
   "source": [
    "def get_odd_numbers():\n",
    "    odd_numbers = []\n",
    "    for i in range(1, 26):\n",
    "        if i % 2 == 1:\n",
    "            odd_numbers.append(i)\n",
    "    return odd_numbers"
   ]
  },
  {
   "cell_type": "code",
   "execution_count": 25,
   "id": "e935a07c-8a5c-4315-bde0-6f0ac8a91b60",
   "metadata": {},
   "outputs": [
    {
     "data": {
      "text/plain": [
       "[1, 3, 5, 7, 9, 11, 13, 15, 17, 19, 21, 23, 25]"
      ]
     },
     "execution_count": 25,
     "metadata": {},
     "output_type": "execute_result"
    }
   ],
   "source": [
    "get_odd_numbers()"
   ]
  },
  {
   "cell_type": "markdown",
   "id": "33a04133-e48d-4506-8cdd-c1a596fa10f6",
   "metadata": {},
   "source": [
    "### Q.2"
   ]
  },
  {
   "cell_type": "markdown",
   "id": "f702b254-412f-428c-98b5-3ca2cf9b5fa2",
   "metadata": {},
   "source": [
    "args allows you to pass a variable number of arguments to a function. The * operator is used to collect all the positional arguments in the function call into a tuple.\n",
    "The tuple can then be accessed as a normal tuple inside the function"
   ]
  },
  {
   "cell_type": "code",
   "execution_count": 37,
   "id": "6f756469-c876-45a4-bac9-ec4a8ae9942b",
   "metadata": {},
   "outputs": [],
   "source": [
    "def test1(*args):\n",
    "    return args"
   ]
  },
  {
   "cell_type": "code",
   "execution_count": 41,
   "id": "54433a01-02a6-4076-a917-3e98d8cceee1",
   "metadata": {},
   "outputs": [
    {
     "data": {
      "text/plain": [
       "('my', 'name', 'is', 'vaibhav')"
      ]
     },
     "execution_count": 41,
     "metadata": {},
     "output_type": "execute_result"
    }
   ],
   "source": [
    "test1(\"my\", \"name\", \"is\", \"vaibhav\")"
   ]
  },
  {
   "cell_type": "markdown",
   "id": "8eed954e-ece5-4bcd-a840-673bfc91d26f",
   "metadata": {},
   "source": [
    "kwargs allows you to pass a variable number of keyword arguments to a function. \n",
    "The ** operator is used to collect all the keyword arguments in the function call into a dictionary. \n",
    "The dictionary can then be accessed as a normal dictionary inside the function. "
   ]
  },
  {
   "cell_type": "code",
   "execution_count": 39,
   "id": "b834a330-73a2-42c6-9d14-88b58aca42fe",
   "metadata": {},
   "outputs": [],
   "source": [
    "def test2(** kwargs):\n",
    "    return kwargs"
   ]
  },
  {
   "cell_type": "code",
   "execution_count": 40,
   "id": "893a6e10-79bd-4b5e-adf3-4ee75f35ed9e",
   "metadata": {},
   "outputs": [
    {
     "data": {
      "text/plain": [
       "{'a': 23, 'b': 33, 'c': 'vaibhav'}"
      ]
     },
     "execution_count": 40,
     "metadata": {},
     "output_type": "execute_result"
    }
   ],
   "source": [
    "test2(a = 23, b = 33, c = \"vaibhav\")"
   ]
  },
  {
   "cell_type": "markdown",
   "id": "fa660c8c-90ab-4eb3-ba71-41f00cd7f1da",
   "metadata": {},
   "source": [
    "### Q.3"
   ]
  },
  {
   "cell_type": "markdown",
   "id": "c313e83b-8c25-4d8f-bede-9ab16092303e",
   "metadata": {},
   "source": [
    "iterator in Python is an object that allows you to traverse through all the elements of a collection (such as a list, tuple, dictionary, or set) one by one. \n",
    "Iterators are implemented as classes in Python, in follow used method is : __iter__()"
   ]
  },
  {
   "cell_type": "code",
   "execution_count": 42,
   "id": "a6fbd143-1b50-4c28-9882-cea7bc1f8fc1",
   "metadata": {},
   "outputs": [
    {
     "name": "stdout",
     "output_type": "stream",
     "text": [
      "2\n",
      "4\n",
      "6\n",
      "8\n",
      "10\n"
     ]
    }
   ],
   "source": [
    "my_list = [2, 4, 6, 8, 10, 12, 14, 16, 18, 20]\n",
    "\n",
    "my_iter = iter(my_list)\n",
    "\n",
    "for i in range(5):\n",
    "    print(next(my_iter))"
   ]
  },
  {
   "cell_type": "markdown",
   "id": "98ba8517-0b7e-4440-88de-a01e7e6b3383",
   "metadata": {},
   "source": [
    "### Q.4"
   ]
  },
  {
   "cell_type": "markdown",
   "id": "9e94b4b5-6aab-41d0-9508-377995e4c082",
   "metadata": {},
   "source": [
    "generator function is a special type of function that can be used to create iterators in a very simple and elegant way. \n",
    "Generator functions use the yield keyword to return a value and then \"pause\" the execution of the function, \n",
    "allowing the calling code to continue from where it left off the next time the function is called. This makes generator functions an easy way to create iterators, since you don't have to write a separate iterator class."
   ]
  },
  {
   "cell_type": "markdown",
   "id": "6b9e760f-d0b4-4331-9d53-1941ed5b9188",
   "metadata": {},
   "source": [
    "yield keyword is used to return a value from the generator function and pause the execution of the function. When the function is called again, \n",
    "it resumes execution from where it left off, with all local variables and their values still intact. \n",
    "This allows the generator function to generate a sequence of values one at a time, \n",
    "without having to generate the entire sequence at once."
   ]
  },
  {
   "cell_type": "code",
   "execution_count": 48,
   "id": "a1b099c4-e90d-4df6-b73b-5213bfcf789f",
   "metadata": {},
   "outputs": [],
   "source": [
    "def fibonacci(n):\n",
    "    a, b = 0, 1\n",
    "    for i in range(n):\n",
    "            yield a\n",
    "            a, b = b, a+b"
   ]
  },
  {
   "cell_type": "code",
   "execution_count": 52,
   "id": "c573097a-e0d7-4c8b-94a4-25e64a4f9314",
   "metadata": {},
   "outputs": [
    {
     "name": "stdout",
     "output_type": "stream",
     "text": [
      "0\n",
      "1\n",
      "1\n",
      "2\n",
      "3\n",
      "5\n",
      "8\n",
      "13\n",
      "21\n",
      "34\n"
     ]
    }
   ],
   "source": [
    "for fib in fibonacci(10):\n",
    "    print(fib)"
   ]
  },
  {
   "cell_type": "markdown",
   "id": "fc992f23-d4b1-4ea2-8137-36922ae0b135",
   "metadata": {},
   "source": [
    "### Q.5"
   ]
  },
  {
   "cell_type": "code",
   "execution_count": 63,
   "id": "c17f606f-792e-4ea2-8628-41f0a95e5f0e",
   "metadata": {},
   "outputs": [],
   "source": [
    "def prime_numbers():\n",
    "    \"\"\"Generate an infinite sequence of prime numbers.\"\"\"\n",
    "    primes = []  # list of primes found so far\n",
    "    n = 2  # number to test for primality\n",
    "    while True:\n",
    "        # check if n is prime\n",
    "        is_prime = True\n",
    "        for p in primes:\n",
    "            if n % p == 0:\n",
    "                is_prime = False\n",
    "                break\n",
    "        if is_prime:\n",
    "            primes.append(n)\n",
    "            yield n\n",
    "        n += 1\n",
    "        if n >= 1000:\n",
    "            break\n"
   ]
  },
  {
   "cell_type": "code",
   "execution_count": 64,
   "id": "5716403d-80b0-4787-b268-df28e848241e",
   "metadata": {},
   "outputs": [
    {
     "name": "stdout",
     "output_type": "stream",
     "text": [
      "2\n",
      "3\n",
      "5\n",
      "7\n",
      "11\n",
      "13\n",
      "17\n",
      "19\n",
      "23\n",
      "29\n",
      "31\n",
      "37\n",
      "41\n",
      "43\n",
      "47\n",
      "53\n",
      "59\n",
      "61\n",
      "67\n",
      "71\n"
     ]
    }
   ],
   "source": [
    "# Create a generator object\n",
    "prime_gen = prime_numbers()\n",
    "\n",
    "# Use next() to print the first 20 prime numbers\n",
    "for i in range(20):\n",
    "    print(next(prime_gen))\n"
   ]
  },
  {
   "cell_type": "code",
   "execution_count": null,
   "id": "1d3b0520-0b91-4bb6-b46a-e17d6a4ae6bd",
   "metadata": {},
   "outputs": [],
   "source": []
  }
 ],
 "metadata": {
  "kernelspec": {
   "display_name": "Python 3 (ipykernel)",
   "language": "python",
   "name": "python3"
  },
  "language_info": {
   "codemirror_mode": {
    "name": "ipython",
    "version": 3
   },
   "file_extension": ".py",
   "mimetype": "text/x-python",
   "name": "python",
   "nbconvert_exporter": "python",
   "pygments_lexer": "ipython3",
   "version": "3.10.8"
  }
 },
 "nbformat": 4,
 "nbformat_minor": 5
}
